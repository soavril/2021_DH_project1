{
 "cells": [
  {
   "cell_type": "markdown",
   "metadata": {},
   "source": [
    "<h1>1. 트위터 데이터 크롤링</h1>"
   ]
  },
  {
   "cell_type": "code",
   "execution_count": 47,
   "metadata": {},
   "outputs": [],
   "source": [
    "import snscrape.modules.twitter as sntwitter\n",
    "import pandas as pd\n",
    "import time\n",
    "import json\n",
    "from datetime import timedelta, date"
   ]
  },
  {
   "cell_type": "code",
   "execution_count": 48,
   "metadata": {},
   "outputs": [
    {
     "name": "stdout",
     "output_type": "stream",
     "text": [
      "Time is 797.0616579055786 sec\n"
     ]
    }
   ],
   "source": [
    "start_time = time.time()\n",
    "\n",
    "#빈 리스트 생성\n",
    "tweets_list = []\n",
    "\n",
    "twitter_scrape = sntwitter.TwitterSearchScraper(\"#아이브 since:2021-12-01 until:2022-01-09 lang:ko\")\n",
    "\n",
    "#날짜와 해시태그 수집\n",
    "for i, tweet in enumerate(twitter_scrape.get_items()):\n",
    "    tweets_list.append([tweet.date, tweet.hashtags])\n",
    "\n",
    "#데이터 프레임 생성\n",
    "tweets_df = pd.DataFrame(tweets_list, columns=['Datetime','hashtag'])\n",
    "\n",
    "end_time = time.time()\n",
    "print(f\"Time is {end_time - start_time} sec\")"
   ]
  },
  {
   "cell_type": "code",
   "execution_count": 49,
   "metadata": {},
   "outputs": [
    {
     "data": {
      "text/html": [
       "<div>\n",
       "<style scoped>\n",
       "    .dataframe tbody tr th:only-of-type {\n",
       "        vertical-align: middle;\n",
       "    }\n",
       "\n",
       "    .dataframe tbody tr th {\n",
       "        vertical-align: top;\n",
       "    }\n",
       "\n",
       "    .dataframe thead th {\n",
       "        text-align: right;\n",
       "    }\n",
       "</style>\n",
       "<table border=\"1\" class=\"dataframe\">\n",
       "  <thead>\n",
       "    <tr style=\"text-align: right;\">\n",
       "      <th></th>\n",
       "      <th>Datetime</th>\n",
       "      <th>hashtag</th>\n",
       "    </tr>\n",
       "  </thead>\n",
       "  <tbody>\n",
       "    <tr>\n",
       "      <th>0</th>\n",
       "      <td>2022-01-08 23:56:18+00:00</td>\n",
       "      <td>[아이브, 장원영, IVE, JANGWONYOUNG]</td>\n",
       "    </tr>\n",
       "    <tr>\n",
       "      <th>1</th>\n",
       "      <td>2022-01-08 23:52:56+00:00</td>\n",
       "      <td>[아이브, 장원영, IVE, JANGWONYOUNG]</td>\n",
       "    </tr>\n",
       "    <tr>\n",
       "      <th>2</th>\n",
       "      <td>2022-01-08 23:52:55+00:00</td>\n",
       "      <td>[아이브, 장원영, IVE, JANGWONYOUNG]</td>\n",
       "    </tr>\n",
       "    <tr>\n",
       "      <th>3</th>\n",
       "      <td>2022-01-08 23:52:52+00:00</td>\n",
       "      <td>[아이브, 장원영, IVE, JANGWONYOUNG]</td>\n",
       "    </tr>\n",
       "    <tr>\n",
       "      <th>4</th>\n",
       "      <td>2022-01-08 23:52:50+00:00</td>\n",
       "      <td>[아이브, 장원영, IVE, JANGWONYOUNG]</td>\n",
       "    </tr>\n",
       "    <tr>\n",
       "      <th>...</th>\n",
       "      <td>...</td>\n",
       "      <td>...</td>\n",
       "    </tr>\n",
       "    <tr>\n",
       "      <th>13716</th>\n",
       "      <td>2021-12-01 00:51:44+00:00</td>\n",
       "      <td>[IVE, 아이브]</td>\n",
       "    </tr>\n",
       "    <tr>\n",
       "      <th>13717</th>\n",
       "      <td>2021-12-01 00:38:47+00:00</td>\n",
       "      <td>[아이브, IVE]</td>\n",
       "    </tr>\n",
       "    <tr>\n",
       "      <th>13718</th>\n",
       "      <td>2021-12-01 00:22:04+00:00</td>\n",
       "      <td>[아이브, IVE, 안유진, 가을, 레이, 장원영, 리즈, 이서, ELEVEN, 일...</td>\n",
       "    </tr>\n",
       "    <tr>\n",
       "      <th>13719</th>\n",
       "      <td>2021-12-01 00:12:39+00:00</td>\n",
       "      <td>[아이브, ELEVEN]</td>\n",
       "    </tr>\n",
       "    <tr>\n",
       "      <th>13720</th>\n",
       "      <td>2021-12-01 00:02:52+00:00</td>\n",
       "      <td>[아이브, IVE, 유진, 가을, 원영, 레이, 리즈, 이서, 댈찍, 대리, 데이터...</td>\n",
       "    </tr>\n",
       "  </tbody>\n",
       "</table>\n",
       "<p>13721 rows × 2 columns</p>\n",
       "</div>"
      ],
      "text/plain": [
       "                       Datetime  \\\n",
       "0     2022-01-08 23:56:18+00:00   \n",
       "1     2022-01-08 23:52:56+00:00   \n",
       "2     2022-01-08 23:52:55+00:00   \n",
       "3     2022-01-08 23:52:52+00:00   \n",
       "4     2022-01-08 23:52:50+00:00   \n",
       "...                         ...   \n",
       "13716 2021-12-01 00:51:44+00:00   \n",
       "13717 2021-12-01 00:38:47+00:00   \n",
       "13718 2021-12-01 00:22:04+00:00   \n",
       "13719 2021-12-01 00:12:39+00:00   \n",
       "13720 2021-12-01 00:02:52+00:00   \n",
       "\n",
       "                                                 hashtag  \n",
       "0                          [아이브, 장원영, IVE, JANGWONYOUNG]  \n",
       "1                          [아이브, 장원영, IVE, JANGWONYOUNG]  \n",
       "2                          [아이브, 장원영, IVE, JANGWONYOUNG]  \n",
       "3                          [아이브, 장원영, IVE, JANGWONYOUNG]  \n",
       "4                          [아이브, 장원영, IVE, JANGWONYOUNG]  \n",
       "...                                                  ...  \n",
       "13716                                         [IVE, 아이브]  \n",
       "13717                                         [아이브, IVE]  \n",
       "13718  [아이브, IVE, 안유진, 가을, 레이, 장원영, 리즈, 이서, ELEVEN, 일...  \n",
       "13719                                      [아이브, ELEVEN]  \n",
       "13720  [아이브, IVE, 유진, 가을, 원영, 레이, 리즈, 이서, 댈찍, 대리, 데이터...  \n",
       "\n",
       "[13721 rows x 2 columns]"
      ]
     },
     "execution_count": 49,
     "metadata": {},
     "output_type": "execute_result"
    }
   ],
   "source": [
    "tweets_df"
   ]
  },
  {
   "cell_type": "code",
   "execution_count": 7,
   "metadata": {},
   "outputs": [],
   "source": [
    "tweets_df.to_csv('/users/noah/desktop/hashtag_ive_.csv', encoding=\"utf-8-sig\")"
   ]
  },
  {
   "cell_type": "markdown",
   "metadata": {},
   "source": [
    "<h1>2. 기본 데이터 전처리</h1>"
   ]
  },
  {
   "cell_type": "code",
   "execution_count": 50,
   "metadata": {},
   "outputs": [],
   "source": [
    "import pandas as pd\n",
    "import ast\n",
    "import numpy as np\n",
    "import time"
   ]
  },
  {
   "cell_type": "code",
   "execution_count": 51,
   "metadata": {},
   "outputs": [],
   "source": [
    "ht = pd.read_csv(\"/users/noah/desktop/hashtag_ive_.csv\")"
   ]
  },
  {
   "cell_type": "code",
   "execution_count": 52,
   "metadata": {},
   "outputs": [],
   "source": [
    "#데이터 프레임으로 변환\n",
    "ht_ = pd.DataFrame(ht)"
   ]
  },
  {
   "cell_type": "code",
   "execution_count": 53,
   "metadata": {},
   "outputs": [
    {
     "data": {
      "text/html": [
       "<div>\n",
       "<style scoped>\n",
       "    .dataframe tbody tr th:only-of-type {\n",
       "        vertical-align: middle;\n",
       "    }\n",
       "\n",
       "    .dataframe tbody tr th {\n",
       "        vertical-align: top;\n",
       "    }\n",
       "\n",
       "    .dataframe thead th {\n",
       "        text-align: right;\n",
       "    }\n",
       "</style>\n",
       "<table border=\"1\" class=\"dataframe\">\n",
       "  <thead>\n",
       "    <tr style=\"text-align: right;\">\n",
       "      <th></th>\n",
       "      <th>hashtag</th>\n",
       "    </tr>\n",
       "  </thead>\n",
       "  <tbody>\n",
       "    <tr>\n",
       "      <th>0</th>\n",
       "      <td>['아이브', '장원영', 'IVE', 'JANGWONYOUNG']</td>\n",
       "    </tr>\n",
       "    <tr>\n",
       "      <th>1</th>\n",
       "      <td>['아이브', '장원영', 'IVE', 'JANGWONYOUNG']</td>\n",
       "    </tr>\n",
       "    <tr>\n",
       "      <th>2</th>\n",
       "      <td>['아이브', '장원영', 'IVE', 'JANGWONYOUNG']</td>\n",
       "    </tr>\n",
       "    <tr>\n",
       "      <th>3</th>\n",
       "      <td>['아이브', '장원영', 'IVE', 'JANGWONYOUNG']</td>\n",
       "    </tr>\n",
       "    <tr>\n",
       "      <th>4</th>\n",
       "      <td>['아이브', '장원영', 'IVE', 'JANGWONYOUNG']</td>\n",
       "    </tr>\n",
       "    <tr>\n",
       "      <th>...</th>\n",
       "      <td>...</td>\n",
       "    </tr>\n",
       "    <tr>\n",
       "      <th>13787</th>\n",
       "      <td>['IVE', '아이브']</td>\n",
       "    </tr>\n",
       "    <tr>\n",
       "      <th>13788</th>\n",
       "      <td>['아이브', 'IVE']</td>\n",
       "    </tr>\n",
       "    <tr>\n",
       "      <th>13789</th>\n",
       "      <td>['아이브', 'IVE', '안유진', '가을', '레이', '장원영', '리즈',...</td>\n",
       "    </tr>\n",
       "    <tr>\n",
       "      <th>13790</th>\n",
       "      <td>['아이브', 'ELEVEN']</td>\n",
       "    </tr>\n",
       "    <tr>\n",
       "      <th>13791</th>\n",
       "      <td>['아이브', 'IVE', '유진', '가을', '원영', '레이', '리즈', '...</td>\n",
       "    </tr>\n",
       "  </tbody>\n",
       "</table>\n",
       "<p>13792 rows × 1 columns</p>\n",
       "</div>"
      ],
      "text/plain": [
       "                                                 hashtag\n",
       "0                  ['아이브', '장원영', 'IVE', 'JANGWONYOUNG']\n",
       "1                  ['아이브', '장원영', 'IVE', 'JANGWONYOUNG']\n",
       "2                  ['아이브', '장원영', 'IVE', 'JANGWONYOUNG']\n",
       "3                  ['아이브', '장원영', 'IVE', 'JANGWONYOUNG']\n",
       "4                  ['아이브', '장원영', 'IVE', 'JANGWONYOUNG']\n",
       "...                                                  ...\n",
       "13787                                     ['IVE', '아이브']\n",
       "13788                                     ['아이브', 'IVE']\n",
       "13789  ['아이브', 'IVE', '안유진', '가을', '레이', '장원영', '리즈',...\n",
       "13790                                  ['아이브', 'ELEVEN']\n",
       "13791  ['아이브', 'IVE', '유진', '가을', '원영', '레이', '리즈', '...\n",
       "\n",
       "[13792 rows x 1 columns]"
      ]
     },
     "execution_count": 53,
     "metadata": {},
     "output_type": "execute_result"
    }
   ],
   "source": [
    "#불필요한 열 제거\n",
    "ht = ht_.drop(['Unnamed: 0', 'Datetime'], axis = 'columns')\n",
    "ht"
   ]
  },
  {
   "cell_type": "markdown",
   "metadata": {},
   "source": [
    "<h2> 노드 만들기 </h2>"
   ]
  },
  {
   "cell_type": "code",
   "execution_count": 54,
   "metadata": {},
   "outputs": [],
   "source": [
    "#복사본 만들기\n",
    "ht_node = ht.copy()"
   ]
  },
  {
   "cell_type": "code",
   "execution_count": 55,
   "metadata": {},
   "outputs": [],
   "source": [
    "#리스트로 변환\n",
    "for i in range(len(ht_node)):\n",
    "    ht_node['hashtag'][i] = ast.literal_eval(ht['hashtag'][i])"
   ]
  },
  {
   "cell_type": "code",
   "execution_count": 56,
   "metadata": {},
   "outputs": [],
   "source": [
    "#노드 list 만들기\n",
    "node_ = []\n",
    "\n",
    "for i in range(len(ht_node)):\n",
    "    node_ += ht_node['hashtag'][i]"
   ]
  },
  {
   "cell_type": "code",
   "execution_count": 165,
   "metadata": {},
   "outputs": [
    {
     "name": "stdout",
     "output_type": "stream",
     "text": [
      "             0\n",
      "0         미녀월드\n",
      "1         겨울코디\n",
      "2      프라이빗메시지\n",
      "3          엔시티\n",
      "4        캘리그라피\n",
      "...        ...\n",
      "1648   아이브뮤직뱅크\n",
      "1649        바자\n",
      "1650  우리가사랑한노래\n",
      "1651        빌리\n",
      "1652      음악방송\n",
      "\n",
      "[1653 rows x 1 columns]\n"
     ]
    }
   ],
   "source": [
    "#노드 list -> set -> list 로 중복제거\n",
    "node_set = set(node_)\n",
    "node = list(node_set)\n",
    "node_data = pd.DataFrame(node)\n",
    "print(node_data)"
   ]
  },
  {
   "cell_type": "code",
   "execution_count": 172,
   "metadata": {},
   "outputs": [
    {
     "name": "stdout",
     "output_type": "stream",
     "text": [
      "         Label\n",
      "0         미녀월드\n",
      "1         겨울코디\n",
      "2      프라이빗메시지\n",
      "3          엔시티\n",
      "4        캘리그라피\n",
      "...        ...\n",
      "1648   아이브뮤직뱅크\n",
      "1649        바자\n",
      "1650  우리가사랑한노래\n",
      "1651        빌리\n",
      "1652      음악방송\n",
      "\n",
      "[1653 rows x 1 columns]\n"
     ]
    }
   ],
   "source": [
    "node_data.rename(columns = {0: 'Label'}, inplace = True)\n",
    "print(node_data)"
   ]
  },
  {
   "cell_type": "code",
   "execution_count": null,
   "metadata": {},
   "outputs": [],
   "source": [
    "#노드 csv로 저장\n",
    "#node_data.to_csv(\"/users/noah/desktop/hashtag_node.csv\", header = True, encoding = \"utf-8-sig\")"
   ]
  },
  {
   "cell_type": "markdown",
   "metadata": {},
   "source": [
    "<h2> 상위 노출 노드 선택 </h2>"
   ]
  },
  {
   "cell_type": "code",
   "execution_count": 145,
   "metadata": {},
   "outputs": [],
   "source": [
    "nodes = pd.read_csv(\"/users/noah/desktop/hashtag_node.csv\")"
   ]
  },
  {
   "cell_type": "code",
   "execution_count": 146,
   "metadata": {},
   "outputs": [
    {
     "name": "stdout",
     "output_type": "stream",
     "text": [
      "        Id       Label\n",
      "0        0        포토타임\n",
      "1        1        IDOL\n",
      "2        2        blip\n",
      "3        3    이런귀요미들ㅜㅜ\n",
      "4        4         신기루\n",
      "...    ...         ...\n",
      "1648  1648     fansign\n",
      "1649  1649         유태양\n",
      "1650  1650  KIMJAEHWAN\n",
      "1651  1651      VETEZE\n",
      "1652  1652        퍼플키스\n",
      "\n",
      "[1653 rows x 2 columns]\n"
     ]
    }
   ],
   "source": [
    "print(nodes)"
   ]
  },
  {
   "cell_type": "code",
   "execution_count": 129,
   "metadata": {},
   "outputs": [],
   "source": [
    "#빈 카운트 리스트 만들기\n",
    "counts = np.zeros(len(nodes['Label']))"
   ]
  },
  {
   "cell_type": "code",
   "execution_count": 132,
   "metadata": {},
   "outputs": [],
   "source": [
    "#노드별 노출 카운트 세기\n",
    "#counts 세기\n",
    "for i in range(len(nodes['Label'])):\n",
    "    for j in range(len(ht_node)):\n",
    "        if nodes['Label'][i] in ht_node['hashtag'][j]:\n",
    "            counts[i] += 1"
   ]
  },
  {
   "cell_type": "code",
   "execution_count": 148,
   "metadata": {},
   "outputs": [],
   "source": [
    "#데이터프레임에 카운트 추가\n",
    "nodes['counts'] = counts"
   ]
  },
  {
   "cell_type": "code",
   "execution_count": 149,
   "metadata": {},
   "outputs": [],
   "source": [
    "#새 id 넘버\n",
    "a = []\n",
    "for i in range(37):\n",
    "    a.append(i) "
   ]
  },
  {
   "cell_type": "code",
   "execution_count": 151,
   "metadata": {},
   "outputs": [
    {
     "name": "stdout",
     "output_type": "stream",
     "text": [
      "37\n",
      "      Id           Label   counts\n",
      "74     0            대리찍사    167.0\n",
      "200    1      IVE_ELEVEN   1898.0\n",
      "238    2             아이브  13792.0\n",
      "264    3           ウォニョン    467.0\n",
      "322    4        Wonyoung    207.0\n",
      "326    5          LEESEO   1157.0\n",
      "363    6              이서   1787.0\n",
      "378    7         ANYUJIN    232.0\n",
      "442    8             アイヴ    612.0\n",
      "478    9             LIZ    917.0\n",
      "489   10              유진   1557.0\n",
      "496   11              퇴근    156.0\n",
      "522   12              출근    155.0\n",
      "623   13              レイ    877.0\n",
      "812   14             Rei    173.0\n",
      "914   15             장원영   1606.0\n",
      "939   16              원영   2362.0\n",
      "961   17    JangWonyoung    179.0\n",
      "989   18         AnYujin    458.0\n",
      "1027  19             REI   1473.0\n",
      "1067  20          ELEVEN   2700.0\n",
      "1073  21              가을   1553.0\n",
      "1099  22              리즈   1631.0\n",
      "1113  23             IVE  11278.0\n",
      "1164  24           YUJIN    631.0\n",
      "1173  25             최파타    143.0\n",
      "1191  26  아이브와_함께_heaven    382.0\n",
      "1213  27              레이   2298.0\n",
      "1232  28             데이터    182.0\n",
      "1281  29             프리뷰    214.0\n",
      "1307  30           Yujin    262.0\n",
      "1348  31           GAEUL    951.0\n",
      "1378  32             ive    171.0\n",
      "1390  33        WONYOUNG   1750.0\n",
      "1472  34      아이브고_일레븐교시    957.0\n",
      "1569  35    JANGWONYOUNG    424.0\n",
      "1575  36             안유진   1364.0\n"
     ]
    }
   ],
   "source": [
    "#count 50 미만 제거, id 넘버 다시 붙이기, 데이터프레임 구조 변경\n",
    "nodes_new = nodes[nodes['counts'] >= 140]\n",
    "print(len(nodes_new))\n",
    "nodes_copy = nodes_new.copy()\n",
    "nodes_copy['id'] = a\n",
    "nodes_copy.drop(columns = {'Id'}, inplace = True)\n",
    "nodes_copy.rename(columns = {'id' : 'Id'}, inplace = True)\n",
    "nodes_final = nodes_copy.reindex(columns = ['Id', 'Label', 'counts'])\n",
    "print(nodes_final)"
   ]
  },
  {
   "cell_type": "code",
   "execution_count": 152,
   "metadata": {},
   "outputs": [],
   "source": [
    "nodes_new.to_csv(\"/users/noah/desktop/hashtag_node_new37.csv\", header = True, encoding = \"utf-8-sig\", index = False)"
   ]
  },
  {
   "cell_type": "markdown",
   "metadata": {},
   "source": [
    "<h2> 상위 노드에 대한 엣지 생성 </h2>"
   ]
  },
  {
   "cell_type": "code",
   "execution_count": 153,
   "metadata": {},
   "outputs": [],
   "source": [
    "from itertools import combinations\n",
    "import numpy as np\n",
    "import time"
   ]
  },
  {
   "cell_type": "code",
   "execution_count": 154,
   "metadata": {},
   "outputs": [],
   "source": [
    "nodes = pd.read_csv(\"/users/noah/desktop/hashtag_node_new37.csv\")"
   ]
  },
  {
   "cell_type": "code",
   "execution_count": 155,
   "metadata": {},
   "outputs": [],
   "source": [
    "#복사본 생성\n",
    "df = ht_node.copy()"
   ]
  },
  {
   "cell_type": "code",
   "execution_count": 156,
   "metadata": {},
   "outputs": [
    {
     "name": "stdout",
     "output_type": "stream",
     "text": [
      "           source        target\n",
      "0            대리찍사    IVE_ELEVEN\n",
      "1            대리찍사           아이브\n",
      "2            대리찍사         ウォニョン\n",
      "3            대리찍사      Wonyoung\n",
      "4            대리찍사        LEESEO\n",
      "..            ...           ...\n",
      "661      WONYOUNG  JANGWONYOUNG\n",
      "662      WONYOUNG           안유진\n",
      "663    아이브고_일레븐교시  JANGWONYOUNG\n",
      "664    아이브고_일레븐교시           안유진\n",
      "665  JANGWONYOUNG           안유진\n",
      "\n",
      "[666 rows x 2 columns]\n"
     ]
    }
   ],
   "source": [
    "#기본 프레임 만들기\n",
    "edge_base = pd.DataFrame(list(combinations(nodes['Label'], 2)))\n",
    "edge_base.rename(columns = {0:'source', 1:'target'}, inplace = True)\n",
    "weight = np.zeros(len(edge_base))\n",
    "print(edge_base)"
   ]
  },
  {
   "cell_type": "code",
   "execution_count": 157,
   "metadata": {},
   "outputs": [
    {
     "name": "stdout",
     "output_type": "stream",
     "text": [
      "[['대리찍사', 'IVE_ELEVEN'], ['대리찍사', '아이브'], ['대리찍사', 'ウォニョン'], ['대리찍사', 'Wonyoung'], ['대리찍사', 'LEESEO'], ['대리찍사', '이서'], ['대리찍사', 'ANYUJIN'], ['대리찍사', 'アイヴ'], ['대리찍사', 'LIZ'], ['대리찍사', '유진'], ['대리찍사', '퇴근'], ['대리찍사', '출근'], ['대리찍사', 'レイ'], ['대리찍사', 'Rei'], ['대리찍사', '장원영'], ['대리찍사', '원영'], ['대리찍사', 'JangWonyoung'], ['대리찍사', 'AnYujin'], ['대리찍사', 'REI'], ['대리찍사', 'ELEVEN'], ['대리찍사', '가을'], ['대리찍사', '리즈'], ['대리찍사', 'IVE'], ['대리찍사', 'YUJIN'], ['대리찍사', '최파타'], ['대리찍사', '아이브와_함께_heaven'], ['대리찍사', '레이'], ['대리찍사', '데이터'], ['대리찍사', '프리뷰'], ['대리찍사', 'Yujin'], ['대리찍사', 'GAEUL'], ['대리찍사', 'ive'], ['대리찍사', 'WONYOUNG'], ['대리찍사', '아이브고_일레븐교시'], ['대리찍사', 'JANGWONYOUNG'], ['대리찍사', '안유진'], ['IVE_ELEVEN', '아이브'], ['IVE_ELEVEN', 'ウォニョン'], ['IVE_ELEVEN', 'Wonyoung'], ['IVE_ELEVEN', 'LEESEO'], ['IVE_ELEVEN', '이서'], ['IVE_ELEVEN', 'ANYUJIN'], ['IVE_ELEVEN', 'アイヴ'], ['IVE_ELEVEN', 'LIZ'], ['IVE_ELEVEN', '유진'], ['IVE_ELEVEN', '퇴근'], ['IVE_ELEVEN', '출근'], ['IVE_ELEVEN', 'レイ'], ['IVE_ELEVEN', 'Rei'], ['IVE_ELEVEN', '장원영'], ['IVE_ELEVEN', '원영'], ['IVE_ELEVEN', 'JangWonyoung'], ['IVE_ELEVEN', 'AnYujin'], ['IVE_ELEVEN', 'REI'], ['IVE_ELEVEN', 'ELEVEN'], ['IVE_ELEVEN', '가을'], ['IVE_ELEVEN', '리즈'], ['IVE_ELEVEN', 'IVE'], ['IVE_ELEVEN', 'YUJIN'], ['IVE_ELEVEN', '최파타'], ['IVE_ELEVEN', '아이브와_함께_heaven'], ['IVE_ELEVEN', '레이'], ['IVE_ELEVEN', '데이터'], ['IVE_ELEVEN', '프리뷰'], ['IVE_ELEVEN', 'Yujin'], ['IVE_ELEVEN', 'GAEUL'], ['IVE_ELEVEN', 'ive'], ['IVE_ELEVEN', 'WONYOUNG'], ['IVE_ELEVEN', '아이브고_일레븐교시'], ['IVE_ELEVEN', 'JANGWONYOUNG'], ['IVE_ELEVEN', '안유진'], ['아이브', 'ウォニョン'], ['아이브', 'Wonyoung'], ['아이브', 'LEESEO'], ['아이브', '이서'], ['아이브', 'ANYUJIN'], ['아이브', 'アイヴ'], ['아이브', 'LIZ'], ['아이브', '유진'], ['아이브', '퇴근'], ['아이브', '출근'], ['아이브', 'レイ'], ['아이브', 'Rei'], ['아이브', '장원영'], ['아이브', '원영'], ['아이브', 'JangWonyoung'], ['아이브', 'AnYujin'], ['아이브', 'REI'], ['아이브', 'ELEVEN'], ['아이브', '가을'], ['아이브', '리즈'], ['아이브', 'IVE'], ['아이브', 'YUJIN'], ['아이브', '최파타'], ['아이브', '아이브와_함께_heaven'], ['아이브', '레이'], ['아이브', '데이터'], ['아이브', '프리뷰'], ['아이브', 'Yujin'], ['아이브', 'GAEUL'], ['아이브', 'ive'], ['아이브', 'WONYOUNG'], ['아이브', '아이브고_일레븐교시'], ['아이브', 'JANGWONYOUNG'], ['아이브', '안유진'], ['ウォニョン', 'Wonyoung'], ['ウォニョン', 'LEESEO'], ['ウォニョン', '이서'], ['ウォニョン', 'ANYUJIN'], ['ウォニョン', 'アイヴ'], ['ウォニョン', 'LIZ'], ['ウォニョン', '유진'], ['ウォニョン', '퇴근'], ['ウォニョン', '출근'], ['ウォニョン', 'レイ'], ['ウォニョン', 'Rei'], ['ウォニョン', '장원영'], ['ウォニョン', '원영'], ['ウォニョン', 'JangWonyoung'], ['ウォニョン', 'AnYujin'], ['ウォニョン', 'REI'], ['ウォニョン', 'ELEVEN'], ['ウォニョン', '가을'], ['ウォニョン', '리즈'], ['ウォニョン', 'IVE'], ['ウォニョン', 'YUJIN'], ['ウォニョン', '최파타'], ['ウォニョン', '아이브와_함께_heaven'], ['ウォニョン', '레이'], ['ウォニョン', '데이터'], ['ウォニョン', '프리뷰'], ['ウォニョン', 'Yujin'], ['ウォニョン', 'GAEUL'], ['ウォニョン', 'ive'], ['ウォニョン', 'WONYOUNG'], ['ウォニョン', '아이브고_일레븐교시'], ['ウォニョン', 'JANGWONYOUNG'], ['ウォニョン', '안유진'], ['Wonyoung', 'LEESEO'], ['Wonyoung', '이서'], ['Wonyoung', 'ANYUJIN'], ['Wonyoung', 'アイヴ'], ['Wonyoung', 'LIZ'], ['Wonyoung', '유진'], ['Wonyoung', '퇴근'], ['Wonyoung', '출근'], ['Wonyoung', 'レイ'], ['Wonyoung', 'Rei'], ['Wonyoung', '장원영'], ['Wonyoung', '원영'], ['Wonyoung', 'JangWonyoung'], ['Wonyoung', 'AnYujin'], ['Wonyoung', 'REI'], ['Wonyoung', 'ELEVEN'], ['Wonyoung', '가을'], ['Wonyoung', '리즈'], ['Wonyoung', 'IVE'], ['Wonyoung', 'YUJIN'], ['Wonyoung', '최파타'], ['Wonyoung', '아이브와_함께_heaven'], ['Wonyoung', '레이'], ['Wonyoung', '데이터'], ['Wonyoung', '프리뷰'], ['Wonyoung', 'Yujin'], ['Wonyoung', 'GAEUL'], ['Wonyoung', 'ive'], ['Wonyoung', 'WONYOUNG'], ['Wonyoung', '아이브고_일레븐교시'], ['Wonyoung', 'JANGWONYOUNG'], ['Wonyoung', '안유진'], ['LEESEO', '이서'], ['LEESEO', 'ANYUJIN'], ['LEESEO', 'アイヴ'], ['LEESEO', 'LIZ'], ['LEESEO', '유진'], ['LEESEO', '퇴근'], ['LEESEO', '출근'], ['LEESEO', 'レイ'], ['LEESEO', 'Rei'], ['LEESEO', '장원영'], ['LEESEO', '원영'], ['LEESEO', 'JangWonyoung'], ['LEESEO', 'AnYujin'], ['LEESEO', 'REI'], ['LEESEO', 'ELEVEN'], ['LEESEO', '가을'], ['LEESEO', '리즈'], ['LEESEO', 'IVE'], ['LEESEO', 'YUJIN'], ['LEESEO', '최파타'], ['LEESEO', '아이브와_함께_heaven'], ['LEESEO', '레이'], ['LEESEO', '데이터'], ['LEESEO', '프리뷰'], ['LEESEO', 'Yujin'], ['LEESEO', 'GAEUL'], ['LEESEO', 'ive'], ['LEESEO', 'WONYOUNG'], ['LEESEO', '아이브고_일레븐교시'], ['LEESEO', 'JANGWONYOUNG'], ['LEESEO', '안유진'], ['이서', 'ANYUJIN'], ['이서', 'アイヴ'], ['이서', 'LIZ'], ['이서', '유진'], ['이서', '퇴근'], ['이서', '출근'], ['이서', 'レイ'], ['이서', 'Rei'], ['이서', '장원영'], ['이서', '원영'], ['이서', 'JangWonyoung'], ['이서', 'AnYujin'], ['이서', 'REI'], ['이서', 'ELEVEN'], ['이서', '가을'], ['이서', '리즈'], ['이서', 'IVE'], ['이서', 'YUJIN'], ['이서', '최파타'], ['이서', '아이브와_함께_heaven'], ['이서', '레이'], ['이서', '데이터'], ['이서', '프리뷰'], ['이서', 'Yujin'], ['이서', 'GAEUL'], ['이서', 'ive'], ['이서', 'WONYOUNG'], ['이서', '아이브고_일레븐교시'], ['이서', 'JANGWONYOUNG'], ['이서', '안유진'], ['ANYUJIN', 'アイヴ'], ['ANYUJIN', 'LIZ'], ['ANYUJIN', '유진'], ['ANYUJIN', '퇴근'], ['ANYUJIN', '출근'], ['ANYUJIN', 'レイ'], ['ANYUJIN', 'Rei'], ['ANYUJIN', '장원영'], ['ANYUJIN', '원영'], ['ANYUJIN', 'JangWonyoung'], ['ANYUJIN', 'AnYujin'], ['ANYUJIN', 'REI'], ['ANYUJIN', 'ELEVEN'], ['ANYUJIN', '가을'], ['ANYUJIN', '리즈'], ['ANYUJIN', 'IVE'], ['ANYUJIN', 'YUJIN'], ['ANYUJIN', '최파타'], ['ANYUJIN', '아이브와_함께_heaven'], ['ANYUJIN', '레이'], ['ANYUJIN', '데이터'], ['ANYUJIN', '프리뷰'], ['ANYUJIN', 'Yujin'], ['ANYUJIN', 'GAEUL'], ['ANYUJIN', 'ive'], ['ANYUJIN', 'WONYOUNG'], ['ANYUJIN', '아이브고_일레븐교시'], ['ANYUJIN', 'JANGWONYOUNG'], ['ANYUJIN', '안유진'], ['アイヴ', 'LIZ'], ['アイヴ', '유진'], ['アイヴ', '퇴근'], ['アイヴ', '출근'], ['アイヴ', 'レイ'], ['アイヴ', 'Rei'], ['アイヴ', '장원영'], ['アイヴ', '원영'], ['アイヴ', 'JangWonyoung'], ['アイヴ', 'AnYujin'], ['アイヴ', 'REI'], ['アイヴ', 'ELEVEN'], ['アイヴ', '가을'], ['アイヴ', '리즈'], ['アイヴ', 'IVE'], ['アイヴ', 'YUJIN'], ['アイヴ', '최파타'], ['アイヴ', '아이브와_함께_heaven'], ['アイヴ', '레이'], ['アイヴ', '데이터'], ['アイヴ', '프리뷰'], ['アイヴ', 'Yujin'], ['アイヴ', 'GAEUL'], ['アイヴ', 'ive'], ['アイヴ', 'WONYOUNG'], ['アイヴ', '아이브고_일레븐교시'], ['アイヴ', 'JANGWONYOUNG'], ['アイヴ', '안유진'], ['LIZ', '유진'], ['LIZ', '퇴근'], ['LIZ', '출근'], ['LIZ', 'レイ'], ['LIZ', 'Rei'], ['LIZ', '장원영'], ['LIZ', '원영'], ['LIZ', 'JangWonyoung'], ['LIZ', 'AnYujin'], ['LIZ', 'REI'], ['LIZ', 'ELEVEN'], ['LIZ', '가을'], ['LIZ', '리즈'], ['LIZ', 'IVE'], ['LIZ', 'YUJIN'], ['LIZ', '최파타'], ['LIZ', '아이브와_함께_heaven'], ['LIZ', '레이'], ['LIZ', '데이터'], ['LIZ', '프리뷰'], ['LIZ', 'Yujin'], ['LIZ', 'GAEUL'], ['LIZ', 'ive'], ['LIZ', 'WONYOUNG'], ['LIZ', '아이브고_일레븐교시'], ['LIZ', 'JANGWONYOUNG'], ['LIZ', '안유진'], ['유진', '퇴근'], ['유진', '출근'], ['유진', 'レイ'], ['유진', 'Rei'], ['유진', '장원영'], ['유진', '원영'], ['유진', 'JangWonyoung'], ['유진', 'AnYujin'], ['유진', 'REI'], ['유진', 'ELEVEN'], ['유진', '가을'], ['유진', '리즈'], ['유진', 'IVE'], ['유진', 'YUJIN'], ['유진', '최파타'], ['유진', '아이브와_함께_heaven'], ['유진', '레이'], ['유진', '데이터'], ['유진', '프리뷰'], ['유진', 'Yujin'], ['유진', 'GAEUL'], ['유진', 'ive'], ['유진', 'WONYOUNG'], ['유진', '아이브고_일레븐교시'], ['유진', 'JANGWONYOUNG'], ['유진', '안유진'], ['퇴근', '출근'], ['퇴근', 'レイ'], ['퇴근', 'Rei'], ['퇴근', '장원영'], ['퇴근', '원영'], ['퇴근', 'JangWonyoung'], ['퇴근', 'AnYujin'], ['퇴근', 'REI'], ['퇴근', 'ELEVEN'], ['퇴근', '가을'], ['퇴근', '리즈'], ['퇴근', 'IVE'], ['퇴근', 'YUJIN'], ['퇴근', '최파타'], ['퇴근', '아이브와_함께_heaven'], ['퇴근', '레이'], ['퇴근', '데이터'], ['퇴근', '프리뷰'], ['퇴근', 'Yujin'], ['퇴근', 'GAEUL'], ['퇴근', 'ive'], ['퇴근', 'WONYOUNG'], ['퇴근', '아이브고_일레븐교시'], ['퇴근', 'JANGWONYOUNG'], ['퇴근', '안유진'], ['출근', 'レイ'], ['출근', 'Rei'], ['출근', '장원영'], ['출근', '원영'], ['출근', 'JangWonyoung'], ['출근', 'AnYujin'], ['출근', 'REI'], ['출근', 'ELEVEN'], ['출근', '가을'], ['출근', '리즈'], ['출근', 'IVE'], ['출근', 'YUJIN'], ['출근', '최파타'], ['출근', '아이브와_함께_heaven'], ['출근', '레이'], ['출근', '데이터'], ['출근', '프리뷰'], ['출근', 'Yujin'], ['출근', 'GAEUL'], ['출근', 'ive'], ['출근', 'WONYOUNG'], ['출근', '아이브고_일레븐교시'], ['출근', 'JANGWONYOUNG'], ['출근', '안유진'], ['レイ', 'Rei'], ['レイ', '장원영'], ['レイ', '원영'], ['レイ', 'JangWonyoung'], ['レイ', 'AnYujin'], ['レイ', 'REI'], ['レイ', 'ELEVEN'], ['レイ', '가을'], ['レイ', '리즈'], ['レイ', 'IVE'], ['レイ', 'YUJIN'], ['レイ', '최파타'], ['レイ', '아이브와_함께_heaven'], ['レイ', '레이'], ['レイ', '데이터'], ['レイ', '프리뷰'], ['レイ', 'Yujin'], ['レイ', 'GAEUL'], ['レイ', 'ive'], ['レイ', 'WONYOUNG'], ['レイ', '아이브고_일레븐교시'], ['レイ', 'JANGWONYOUNG'], ['レイ', '안유진'], ['Rei', '장원영'], ['Rei', '원영'], ['Rei', 'JangWonyoung'], ['Rei', 'AnYujin'], ['Rei', 'REI'], ['Rei', 'ELEVEN'], ['Rei', '가을'], ['Rei', '리즈'], ['Rei', 'IVE'], ['Rei', 'YUJIN'], ['Rei', '최파타'], ['Rei', '아이브와_함께_heaven'], ['Rei', '레이'], ['Rei', '데이터'], ['Rei', '프리뷰'], ['Rei', 'Yujin'], ['Rei', 'GAEUL'], ['Rei', 'ive'], ['Rei', 'WONYOUNG'], ['Rei', '아이브고_일레븐교시'], ['Rei', 'JANGWONYOUNG'], ['Rei', '안유진'], ['장원영', '원영'], ['장원영', 'JangWonyoung'], ['장원영', 'AnYujin'], ['장원영', 'REI'], ['장원영', 'ELEVEN'], ['장원영', '가을'], ['장원영', '리즈'], ['장원영', 'IVE'], ['장원영', 'YUJIN'], ['장원영', '최파타'], ['장원영', '아이브와_함께_heaven'], ['장원영', '레이'], ['장원영', '데이터'], ['장원영', '프리뷰'], ['장원영', 'Yujin'], ['장원영', 'GAEUL'], ['장원영', 'ive'], ['장원영', 'WONYOUNG'], ['장원영', '아이브고_일레븐교시'], ['장원영', 'JANGWONYOUNG'], ['장원영', '안유진'], ['원영', 'JangWonyoung'], ['원영', 'AnYujin'], ['원영', 'REI'], ['원영', 'ELEVEN'], ['원영', '가을'], ['원영', '리즈'], ['원영', 'IVE'], ['원영', 'YUJIN'], ['원영', '최파타'], ['원영', '아이브와_함께_heaven'], ['원영', '레이'], ['원영', '데이터'], ['원영', '프리뷰'], ['원영', 'Yujin'], ['원영', 'GAEUL'], ['원영', 'ive'], ['원영', 'WONYOUNG'], ['원영', '아이브고_일레븐교시'], ['원영', 'JANGWONYOUNG'], ['원영', '안유진'], ['JangWonyoung', 'AnYujin'], ['JangWonyoung', 'REI'], ['JangWonyoung', 'ELEVEN'], ['JangWonyoung', '가을'], ['JangWonyoung', '리즈'], ['JangWonyoung', 'IVE'], ['JangWonyoung', 'YUJIN'], ['JangWonyoung', '최파타'], ['JangWonyoung', '아이브와_함께_heaven'], ['JangWonyoung', '레이'], ['JangWonyoung', '데이터'], ['JangWonyoung', '프리뷰'], ['JangWonyoung', 'Yujin'], ['JangWonyoung', 'GAEUL'], ['JangWonyoung', 'ive'], ['JangWonyoung', 'WONYOUNG'], ['JangWonyoung', '아이브고_일레븐교시'], ['JangWonyoung', 'JANGWONYOUNG'], ['JangWonyoung', '안유진'], ['AnYujin', 'REI'], ['AnYujin', 'ELEVEN'], ['AnYujin', '가을'], ['AnYujin', '리즈'], ['AnYujin', 'IVE'], ['AnYujin', 'YUJIN'], ['AnYujin', '최파타'], ['AnYujin', '아이브와_함께_heaven'], ['AnYujin', '레이'], ['AnYujin', '데이터'], ['AnYujin', '프리뷰'], ['AnYujin', 'Yujin'], ['AnYujin', 'GAEUL'], ['AnYujin', 'ive'], ['AnYujin', 'WONYOUNG'], ['AnYujin', '아이브고_일레븐교시'], ['AnYujin', 'JANGWONYOUNG'], ['AnYujin', '안유진'], ['REI', 'ELEVEN'], ['REI', '가을'], ['REI', '리즈'], ['REI', 'IVE'], ['REI', 'YUJIN'], ['REI', '최파타'], ['REI', '아이브와_함께_heaven'], ['REI', '레이'], ['REI', '데이터'], ['REI', '프리뷰'], ['REI', 'Yujin'], ['REI', 'GAEUL'], ['REI', 'ive'], ['REI', 'WONYOUNG'], ['REI', '아이브고_일레븐교시'], ['REI', 'JANGWONYOUNG'], ['REI', '안유진'], ['ELEVEN', '가을'], ['ELEVEN', '리즈'], ['ELEVEN', 'IVE'], ['ELEVEN', 'YUJIN'], ['ELEVEN', '최파타'], ['ELEVEN', '아이브와_함께_heaven'], ['ELEVEN', '레이'], ['ELEVEN', '데이터'], ['ELEVEN', '프리뷰'], ['ELEVEN', 'Yujin'], ['ELEVEN', 'GAEUL'], ['ELEVEN', 'ive'], ['ELEVEN', 'WONYOUNG'], ['ELEVEN', '아이브고_일레븐교시'], ['ELEVEN', 'JANGWONYOUNG'], ['ELEVEN', '안유진'], ['가을', '리즈'], ['가을', 'IVE'], ['가을', 'YUJIN'], ['가을', '최파타'], ['가을', '아이브와_함께_heaven'], ['가을', '레이'], ['가을', '데이터'], ['가을', '프리뷰'], ['가을', 'Yujin'], ['가을', 'GAEUL'], ['가을', 'ive'], ['가을', 'WONYOUNG'], ['가을', '아이브고_일레븐교시'], ['가을', 'JANGWONYOUNG'], ['가을', '안유진'], ['리즈', 'IVE'], ['리즈', 'YUJIN'], ['리즈', '최파타'], ['리즈', '아이브와_함께_heaven'], ['리즈', '레이'], ['리즈', '데이터'], ['리즈', '프리뷰'], ['리즈', 'Yujin'], ['리즈', 'GAEUL'], ['리즈', 'ive'], ['리즈', 'WONYOUNG'], ['리즈', '아이브고_일레븐교시'], ['리즈', 'JANGWONYOUNG'], ['리즈', '안유진'], ['IVE', 'YUJIN'], ['IVE', '최파타'], ['IVE', '아이브와_함께_heaven'], ['IVE', '레이'], ['IVE', '데이터'], ['IVE', '프리뷰'], ['IVE', 'Yujin'], ['IVE', 'GAEUL'], ['IVE', 'ive'], ['IVE', 'WONYOUNG'], ['IVE', '아이브고_일레븐교시'], ['IVE', 'JANGWONYOUNG'], ['IVE', '안유진'], ['YUJIN', '최파타'], ['YUJIN', '아이브와_함께_heaven'], ['YUJIN', '레이'], ['YUJIN', '데이터'], ['YUJIN', '프리뷰'], ['YUJIN', 'Yujin'], ['YUJIN', 'GAEUL'], ['YUJIN', 'ive'], ['YUJIN', 'WONYOUNG'], ['YUJIN', '아이브고_일레븐교시'], ['YUJIN', 'JANGWONYOUNG'], ['YUJIN', '안유진'], ['최파타', '아이브와_함께_heaven'], ['최파타', '레이'], ['최파타', '데이터'], ['최파타', '프리뷰'], ['최파타', 'Yujin'], ['최파타', 'GAEUL'], ['최파타', 'ive'], ['최파타', 'WONYOUNG'], ['최파타', '아이브고_일레븐교시'], ['최파타', 'JANGWONYOUNG'], ['최파타', '안유진'], ['아이브와_함께_heaven', '레이'], ['아이브와_함께_heaven', '데이터'], ['아이브와_함께_heaven', '프리뷰'], ['아이브와_함께_heaven', 'Yujin'], ['아이브와_함께_heaven', 'GAEUL'], ['아이브와_함께_heaven', 'ive'], ['아이브와_함께_heaven', 'WONYOUNG'], ['아이브와_함께_heaven', '아이브고_일레븐교시'], ['아이브와_함께_heaven', 'JANGWONYOUNG'], ['아이브와_함께_heaven', '안유진'], ['레이', '데이터'], ['레이', '프리뷰'], ['레이', 'Yujin'], ['레이', 'GAEUL'], ['레이', 'ive'], ['레이', 'WONYOUNG'], ['레이', '아이브고_일레븐교시'], ['레이', 'JANGWONYOUNG'], ['레이', '안유진'], ['데이터', '프리뷰'], ['데이터', 'Yujin'], ['데이터', 'GAEUL'], ['데이터', 'ive'], ['데이터', 'WONYOUNG'], ['데이터', '아이브고_일레븐교시'], ['데이터', 'JANGWONYOUNG'], ['데이터', '안유진'], ['프리뷰', 'Yujin'], ['프리뷰', 'GAEUL'], ['프리뷰', 'ive'], ['프리뷰', 'WONYOUNG'], ['프리뷰', '아이브고_일레븐교시'], ['프리뷰', 'JANGWONYOUNG'], ['프리뷰', '안유진'], ['Yujin', 'GAEUL'], ['Yujin', 'ive'], ['Yujin', 'WONYOUNG'], ['Yujin', '아이브고_일레븐교시'], ['Yujin', 'JANGWONYOUNG'], ['Yujin', '안유진'], ['GAEUL', 'ive'], ['GAEUL', 'WONYOUNG'], ['GAEUL', '아이브고_일레븐교시'], ['GAEUL', 'JANGWONYOUNG'], ['GAEUL', '안유진'], ['ive', 'WONYOUNG'], ['ive', '아이브고_일레븐교시'], ['ive', 'JANGWONYOUNG'], ['ive', '안유진'], ['WONYOUNG', '아이브고_일레븐교시'], ['WONYOUNG', 'JANGWONYOUNG'], ['WONYOUNG', '안유진'], ['아이브고_일레븐교시', 'JANGWONYOUNG'], ['아이브고_일레븐교시', '안유진'], ['JANGWONYOUNG', '안유진']]\n"
     ]
    }
   ],
   "source": [
    "#test 해보기\n",
    "edge_test = edge_base.copy()\n",
    "edge_list = edge_test.values.tolist()\n",
    "print(edge_list)"
   ]
  },
  {
   "cell_type": "code",
   "execution_count": 158,
   "metadata": {},
   "outputs": [
    {
     "name": "stdout",
     "output_type": "stream",
     "text": [
      "Time is 63.92641806602478 sec\n"
     ]
    }
   ],
   "source": [
    "# weight 찾기\n",
    "start_time = time.time()\n",
    "\n",
    "for i in range(len(edge_list)):\n",
    "    for j in range(len(df)):\n",
    "        if (edge_list[i][0] in df['hashtag'][j]) & (edge_list[i][1] in df['hashtag'][j]):\n",
    "            weight[i] += 1\n",
    "            \n",
    "#for [a, b], if both 'a' and 'b' are in [a, b, c, d] then plus the weight\n",
    "            \n",
    "end_time = time.time()\n",
    "print(f\"Time is {end_time - start_time} sec\")"
   ]
  },
  {
   "cell_type": "code",
   "execution_count": 175,
   "metadata": {},
   "outputs": [
    {
     "name": "stdout",
     "output_type": "stream",
     "text": [
      "[0, 167, 0, 0, 10, 69, 0, 0, 9, 64]\n"
     ]
    },
    {
     "data": {
      "text/plain": [
       "0.0        198\n",
       "1.0         39\n",
       "2.0         20\n",
       "3.0         15\n",
       "12.0        13\n",
       "          ... \n",
       "212.0        1\n",
       "214.0        1\n",
       "217.0        1\n",
       "219.0        1\n",
       "11278.0      1\n",
       "Length: 227, dtype: int64"
      ]
     },
     "execution_count": 175,
     "metadata": {},
     "output_type": "execute_result"
    }
   ],
   "source": [
    "#weight 분석해보기\n",
    "print(list(map(int, weight))[0:10])\n",
    "\n",
    "weight_df = pd.DataFrame(weight)\n",
    "weight_df.value_counts()"
   ]
  },
  {
   "cell_type": "code",
   "execution_count": 160,
   "metadata": {},
   "outputs": [
    {
     "name": "stdout",
     "output_type": "stream",
     "text": [
      "           source        target  weight\n",
      "0            대리찍사    IVE_ELEVEN     0.0\n",
      "1            대리찍사           아이브   167.0\n",
      "2            대리찍사         ウォニョン     0.0\n",
      "3            대리찍사      Wonyoung     0.0\n",
      "4            대리찍사        LEESEO    10.0\n",
      "..            ...           ...     ...\n",
      "661      WONYOUNG  JANGWONYOUNG    72.0\n",
      "662      WONYOUNG           안유진    41.0\n",
      "663    아이브고_일레븐교시  JANGWONYOUNG     1.0\n",
      "664    아이브고_일레븐교시           안유진     8.0\n",
      "665  JANGWONYOUNG           안유진    10.0\n",
      "\n",
      "[666 rows x 3 columns]\n"
     ]
    }
   ],
   "source": [
    "edge_base['weight'] = weight\n",
    "print(edge_base)"
   ]
  },
  {
   "cell_type": "code",
   "execution_count": 161,
   "metadata": {},
   "outputs": [
    {
     "name": "stdout",
     "output_type": "stream",
     "text": [
      "     source  target  weight\n",
      "0        74     200     0.0\n",
      "1        74     238   167.0\n",
      "2        74     264     0.0\n",
      "3        74     322     0.0\n",
      "4        74     326    10.0\n",
      "..      ...     ...     ...\n",
      "661    1390    1569    72.0\n",
      "662    1390    1575    41.0\n",
      "663    1472    1569     1.0\n",
      "664    1472    1575     8.0\n",
      "665    1569    1575    10.0\n",
      "\n",
      "[666 rows x 3 columns]\n"
     ]
    }
   ],
   "source": [
    "#이름 대신에 id에 weight 붙여서 양식 만들기\n",
    "edge_id = pd.DataFrame(list(combinations(nodes['Id'], 2)))\n",
    "edge_id.rename(columns = {0:'source', 1:'target'}, inplace = True)\n",
    "edge_id['weight'] = weight\n",
    "print(edge_id)"
   ]
  },
  {
   "cell_type": "code",
   "execution_count": 39,
   "metadata": {},
   "outputs": [],
   "source": [
    "edge_id.to_csv(\"/users/noah/desktop/hashtag_edge_new37.csv\", header = True, encoding = \"utf-8-sig\")"
   ]
  },
  {
   "cell_type": "code",
   "execution_count": null,
   "metadata": {},
   "outputs": [],
   "source": []
  }
 ],
 "metadata": {
  "kernelspec": {
   "display_name": "Python 3",
   "language": "python",
   "name": "python3"
  },
  "language_info": {
   "codemirror_mode": {
    "name": "ipython",
    "version": 3
   },
   "file_extension": ".py",
   "mimetype": "text/x-python",
   "name": "python",
   "nbconvert_exporter": "python",
   "pygments_lexer": "ipython3",
   "version": "3.8.5"
  }
 },
 "nbformat": 4,
 "nbformat_minor": 4
}
